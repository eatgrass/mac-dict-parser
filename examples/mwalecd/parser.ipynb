{
 "cells": [
  {
   "cell_type": "code",
   "execution_count": 2,
   "metadata": {},
   "outputs": [],
   "source": [
    "import sys\n",
    "sys.path.append('../../lib')\n",
    "\n",
    "from readmdict import MDX\n",
    "from bs4 import BeautifulSoup\n",
    "import re\n",
    "import json\n",
    "from jinja2 import Environment, FileSystemLoader\n",
    "\n",
    "mdx = MDX('./韦氏高阶英汉双解词典.mdx') # change to your own path"
   ]
  },
  {
   "cell_type": "code",
   "execution_count": 8,
   "metadata": {},
   "outputs": [],
   "source": [
    "dict = {}\n",
    "r = re.compile(r'@@@LINK=(.*)')\n",
    "for i in mdx.items():\n",
    "    entry = i[0].decode(\"utf-8\")\n",
    "    content = i[1].decode(\"utf-8\")\n",
    "    if \"@@@LINK\" in content:\n",
    "        matches = r.search(content)\n",
    "        e = matches.group(1).strip()\n",
    "        if e in dict:\n",
    "            dict[e][\"index\"].append(entry)\n",
    "        else:\n",
    "            dict[e] = {\n",
    "                \"index\": [entry],\n",
    "                \"html\": \"\"\n",
    "            }\n",
    "    else:\n",
    "        dom = BeautifulSoup(content, \"html.parser\")\n",
    "        \n",
    "        for tag in dom.find_all(True):\n",
    "            # Get the class attribute, if it exists\n",
    "            class_attr = tag.get('class')\n",
    "\n",
    "            # Clear all attributes\n",
    "            tag.attrs = {}\n",
    "\n",
    "            # Re-add the class attribute if it existed\n",
    "            if class_attr:\n",
    "                tag['class'] = class_attr\n",
    "\n",
    "\n",
    "        if entry in dict:\n",
    "            dict[entry]['html'] = str(dom)\n",
    "            dict[entry]['index'].append(entry)\n",
    "        else:\n",
    "            dict[entry] = {\n",
    "                \"index\": [entry],\n",
    "                \"html\": str(dom)\n",
    "            }\n",
    "\n",
    "with open(\"./dict.json\", \"w\", encoding=\"utf-8\") as f:\n",
    "    json.dump(dict, f, ensure_ascii=False)"
   ]
  },
  {
   "cell_type": "code",
   "execution_count": null,
   "metadata": {},
   "outputs": [],
   "source": [
    "data = {}\n",
    "with open('./dict.json', 'r') as file:\n",
    "    data = json.load(file)\n",
    "\n",
    "print(data[\"don't\"]['html'])\n",
    "\n",
    "template_env = Environment(loader=FileSystemLoader('.'))\n",
    "template = template_env.get_template('template.html.jinja')\n",
    "rendered = template.render({\"entries\":data})\n",
    "with open(\"./mwalecd.xml\", \"w\") as f:\n",
    "    f.write(rendered)"
   ]
  }
 ],
 "metadata": {
  "kernelspec": {
   "display_name": "base",
   "language": "python",
   "name": "python3"
  },
  "language_info": {
   "codemirror_mode": {
    "name": "ipython",
    "version": 3
   },
   "file_extension": ".py",
   "mimetype": "text/x-python",
   "name": "python",
   "nbconvert_exporter": "python",
   "pygments_lexer": "ipython3",
   "version": "3.10.9"
  }
 },
 "nbformat": 4,
 "nbformat_minor": 2
}
